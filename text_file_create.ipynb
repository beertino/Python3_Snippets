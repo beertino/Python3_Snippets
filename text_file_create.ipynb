import os

#Point to the directory of the papers 
os.chdir('home/etc')

school_name = [name for name in os.listdir(".") if os.path.isdir(name)]

#[ALVL/2014/1/1]
year=str(2017)
for s in school_name:
    f= open(s+'.txt','w+')
    for i in range(1,15):
        f.write('SCHOOL NAME: '+s+'\n'+
                'YEAR: '+year+'\n'+
                'PAPER: '+'\n'+
                'TYPE: '+'\n'+
                'QUESTION_MARK:\n'+
                'SKILL_SET:\n\n'+
                'QUESTION_NO:\n'+
                '--END_QUESTION--\n' )
    f.close()
